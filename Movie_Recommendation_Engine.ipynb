{
  "nbformat": 4,
  "nbformat_minor": 0,
  "metadata": {
    "colab": {
      "provenance": [],
      "authorship_tag": "ABX9TyMGyobPNYmpcdZRPD2MndEG",
      "include_colab_link": true
    },
    "kernelspec": {
      "name": "python3",
      "display_name": "Python 3"
    },
    "language_info": {
      "name": "python"
    }
  },
  "cells": [
    {
      "cell_type": "markdown",
      "metadata": {
        "id": "view-in-github",
        "colab_type": "text"
      },
      "source": [
        "<a href=\"https://colab.research.google.com/github/sujal-dhawan/Movie-Recommendation-System/blob/main/Movie_Recommendation_Engine.ipynb\" target=\"_parent\"><img src=\"https://colab.research.google.com/assets/colab-badge.svg\" alt=\"Open In Colab\"/></a>"
      ]
    },
    {
      "cell_type": "markdown",
      "source": [
        "# Movie Recommendation System 🎬\n",
        "\n",
        "Welcome to the **Movie Recommendation System** project! This system recommends movies based on **genre similarity** and **director information** using the **MovieLens dataset**.\n",
        "\n",
        "## Project Overview\n",
        "- **Objective**: Build a content-based movie recommendation system.\n",
        "- **Features**:\n",
        "  - Genre-based recommendations using **TF-IDF** and **cosine similarity**.\n",
        "  - Director-based recommendations (simulated).\n",
        "  - Data visualizations for ratings distribution and genre popularity.\n",
        "  - User-friendly interface for real-time recommendations.\n",
        "- **Technologies**: Python, pandas, NumPy, scikit-learn, Matplotlib, Seaborn, fuzzywuzzy.\n",
        "\n",
        "## How to Use\n",
        "1. Run the cells in order to load the dataset and preprocess the data.\n",
        "2. Input a movie name to get personalized recommendations.\n",
        "3. Explore the visualizations and model evaluation metrics.\n",
        "\n",
        "Let’s get started! 🚀"
      ],
      "metadata": {
        "id": "0I2TmB4QUTYB"
      }
    },
    {
      "cell_type": "code",
      "execution_count": null,
      "metadata": {
        "id": "qBz3qOip8JQ7"
      },
      "outputs": [],
      "source": [
        "!pip install scikit-learn pandas numpy matplotlib seaborn ipywidgets fuzzywuzzy gradio\n",
        "\n",
        "# Core libraries for data manipulation and visualization\n",
        "import pandas as pd\n",
        "import numpy as np\n",
        "import matplotlib.pyplot as plt\n",
        "import seaborn as sns\n",
        "\n",
        "# Scikit-learn modules for text feature extraction and similarity\n",
        "from sklearn.feature_extraction.text import TfidfVectorizer\n",
        "from sklearn.metrics.pairwise import cosine_similarity\n",
        "from sklearn.metrics import mean_squared_error\n",
        "\n",
        "# Fuzzy matching for approximate title matching\n",
        "from fuzzywuzzy import process\n",
        "\n",
        "# Gradio for deployment as an interactive web app\n",
        "import gradio as gr\n"
      ]
    },
    {
      "cell_type": "markdown",
      "source": [
        "## Load and Preprocess the Dataset\n",
        "\n",
        "In this step, we:\n",
        "1. **Download the MovieLens dataset** using `wget` and unzip it.\n",
        "2. **Load the movies and ratings data** into pandas DataFrames.\n",
        "3. **Preprocess the data**:\n",
        "   - Split the `genres` column into a list of genres.\n",
        "   - Handle missing values in the `genres` column.\n",
        "   - Normalize movie titles by converting them to lowercase and stripping extra spaces.\n",
        "\n",
        "This prepares the dataset for further analysis and modeling."
      ],
      "metadata": {
        "id": "LMFZn5NlUc4q"
      }
    },
    {
      "cell_type": "code",
      "source": [
        "# Download and unzip the dataset (MovieLens latest-small)\n",
        "!wget https://files.grouplens.org/datasets/movielens/ml-latest-small.zip\n",
        "!unzip -o ml-latest-small.zip\n",
        "\n",
        "# Load the movies and ratings datasets\n",
        "movies = pd.read_csv('ml-latest-small/movies.csv')\n",
        "ratings = pd.read_csv('ml-latest-small/ratings.csv')\n"
      ],
      "metadata": {
        "id": "kkJ4EvCz-Tw_"
      },
      "execution_count": null,
      "outputs": []
    },
    {
      "cell_type": "markdown",
      "source": [
        "## Build the Recommendation Engine\n",
        "\n",
        "In this step, we:\n",
        "1. **Create a TF-IDF matrix** for movie genres using `TfidfVectorizer`. This converts the genres into numerical features.\n",
        "2. **Compute cosine similarity** between movies based on their genre features.\n",
        "3. **Map movie titles to indices** for easy lookup.\n",
        "4. **Find the closest matching title** using fuzzy matching (to handle typos or incorrect inputs).\n",
        "5. **Generate recommendations**:\n",
        "   - If the input movie title is not found, suggest the closest match.\n",
        "   - Use cosine similarity to recommend the top 10 most similar movies.\n",
        "\n",
        "This forms the core of the content-based recommendation system."
      ],
      "metadata": {
        "id": "M_olkGQ9Unvi"
      }
    },
    {
      "cell_type": "code",
      "source": [
        "# Split genres into a list and handle missing values\n",
        "movies['genres'] = movies['genres'].str.split('|')\n",
        "movies['genres'] = movies['genres'].fillna('').astype(str)\n",
        "\n",
        "# Normalize movie titles (for matching purposes)\n",
        "movies['title_normalized'] = movies['title'].str.lower().str.strip()\n",
        "\n",
        "# For demonstration: Add a dummy 'director' column (simulate director information)\n",
        "np.random.seed(42)  # Ensure reproducibility\n",
        "movies['director'] = np.random.choice(['Director A', 'Director B', 'Director C'], size=len(movies))\n"
      ],
      "metadata": {
        "id": "mgNzqIvU-UZo"
      },
      "execution_count": null,
      "outputs": []
    },
    {
      "cell_type": "code",
      "source": [
        "# Create a TF-IDF matrix for the movie genres\n",
        "tfidf = TfidfVectorizer(stop_words='english')\n",
        "tfidf_matrix = tfidf.fit_transform(movies['genres'])\n",
        "\n",
        "# Compute the cosine similarity matrix based on genres\n",
        "cosine_sim = cosine_similarity(tfidf_matrix, tfidf_matrix)\n",
        "\n",
        "# Create a mapping of normalized movie titles to DataFrame indices\n",
        "indices = pd.Series(movies.index, index=movies['title_normalized']).drop_duplicates()\n"
      ],
      "metadata": {
        "id": "6-13LRETzhIV"
      },
      "execution_count": null,
      "outputs": []
    },
    {
      "cell_type": "markdown",
      "source": [
        "## Add Director-Based Recommendations\n",
        "\n",
        "In this step, we:\n",
        "1. **Simulate a director column** by randomly assigning directors (`Director A`, `Director B`, `Director C`) to movies.\n",
        "2. **Create a function** to recommend movies by the same director:\n",
        "   - Normalize the input title and check if it exists in the dataset.\n",
        "   - If the movie is found, recommend up to 10 movies by the same director.\n",
        "   - If the movie is not found, display an error message.\n",
        "\n",
        "This adds an additional layer of personalization to the recommendation system."
      ],
      "metadata": {
        "id": "UOOBu7TOU7jt"
      }
    },
    {
      "cell_type": "code",
      "source": [
        "# Function to find the closest matching title using fuzzy matching\n",
        "def find_closest_title(title, titles_list):\n",
        "    if isinstance(titles_list, pd.Series):\n",
        "        titles_list = titles_list.tolist()\n",
        "    closest_match, score = process.extractOne(title, titles_list)\n",
        "    if score >= 80:  # Adjust threshold if needed\n",
        "        return closest_match\n",
        "    else:\n",
        "        return None\n",
        "\n",
        "# Function to get content-based recommendations\n",
        "def get_recommendations(title, cosine_sim=cosine_sim):\n",
        "    title_norm = title.lower().strip()\n",
        "    message = \"\"\n",
        "\n",
        "    if title_norm not in indices:\n",
        "        # Attempt to find a close match if the title is not found\n",
        "        closest_title = find_closest_title(title_norm, movies['title_normalized'])\n",
        "        if closest_title is None:\n",
        "            return None, f\"Movie '{title}' not found. Please check the title and try again.\"\n",
        "        else:\n",
        "            message = f\"Movie '{title}' not found. Showing results for '{closest_title}':\\n\"\n",
        "            title_norm = closest_title\n",
        "\n",
        "    idx = indices[title_norm]\n",
        "    sim_scores = list(enumerate(cosine_sim[idx]))\n",
        "    sim_scores = sorted(sim_scores, key=lambda x: x[1], reverse=True)\n",
        "    sim_scores = sim_scores[1:11]  # Top 10 similar movies (excluding the query movie)\n",
        "    movie_indices = [i[0] for i in sim_scores]\n",
        "    recommendations = movies['title'].iloc[movie_indices].tolist()\n",
        "    return recommendations, message\n",
        "\n",
        "# Function to recommend movies by the same director\n",
        "def recommend_by_director(title):\n",
        "    title_norm = title.lower().strip()\n",
        "    if title_norm not in movies['title_normalized'].values:\n",
        "        return None, f\"Movie '{title}' not found. Please check the title and try again.\"\n",
        "    director = movies[movies['title_normalized'] == title_norm]['director'].values[0]\n",
        "    director_movies = movies[movies['director'] == director]['title'].head(10).tolist()\n",
        "    message = f\"Director: {director}\"\n",
        "    return director_movies, message\n"
      ],
      "metadata": {
        "id": "hO1HCgte-am3"
      },
      "execution_count": null,
      "outputs": []
    },
    {
      "cell_type": "markdown",
      "source": [
        "## Visualize Movie Ratings Distribution\n",
        "\n",
        "In this step, we:\n",
        "1. **Create a count plot** to visualize the distribution of movie ratings.\n",
        "2. **Customize the plot**:\n",
        "   - Add a title and axis labels with larger fonts for clarity.\n",
        "   - Use a color palette (`viridis`) and edge color for better aesthetics.\n",
        "   - Add a grid for improved readability.\n",
        "\n",
        "This visualization helps us understand how ratings are distributed across the dataset."
      ],
      "metadata": {
        "id": "dGJvBm8mU1Ps"
      }
    },
    {
      "cell_type": "code",
      "source": [
        "# Plot the distribution of movie ratings\n",
        "plt.figure(figsize=(10, 6))\n",
        "sns.countplot(x='rating', data=ratings, palette='viridis', edgecolor='black')\n",
        "plt.title('Distribution of Movie Ratings', fontsize=16, fontweight='bold')\n",
        "plt.xlabel('Rating', fontsize=14)\n",
        "plt.ylabel('Count', fontsize=14)\n",
        "plt.grid(axis='y', linestyle='--', alpha=0.7)\n",
        "plt.show()\n",
        "\n",
        "# Plot the top 10 most popular genres\n",
        "movies_exploded = movies.explode('genres')\n",
        "genre_counts = movies_exploded['genres'].value_counts()\n",
        "plt.figure(figsize=(12, 6))\n",
        "genre_counts.head(10).plot(kind='bar', color='orange', edgecolor='black')\n",
        "plt.title('Top 10 Movie Genres by Popularity', fontsize=16, fontweight='bold')\n",
        "plt.xlabel('Genre', fontsize=14)\n",
        "plt.ylabel('Number of Movies', fontsize=14)\n",
        "plt.xticks(rotation=45, fontsize=12)\n",
        "plt.grid(axis='y', linestyle='--', alpha=0.7)\n",
        "plt.show()\n"
      ],
      "metadata": {
        "id": "179UYVAE-bvX"
      },
      "execution_count": null,
      "outputs": []
    },
    {
      "cell_type": "markdown",
      "source": [
        "## Visualize Genre Popularity\n",
        "\n",
        "In this step, we:\n",
        "1. **Explode the genres column** to separate each genre into its own row.\n",
        "2. **Count the occurrences** of each genre to determine popularity.\n",
        "3. **Create a bar plot** to visualize the top 10 most popular genres:\n",
        "   - Use a vibrant color (`orange`) and edge color for better aesthetics.\n",
        "   - Add a title and axis labels with larger fonts for clarity.\n",
        "   - Rotate x-axis labels for better readability.\n",
        "   - Add a grid for improved visualization.\n",
        "\n",
        "This helps us understand which genres are most common in the dataset."
      ],
      "metadata": {
        "id": "drgPWfk7U-4k"
      }
    },
    {
      "cell_type": "markdown",
      "source": [
        "## Evaluate the Model\n",
        "\n",
        "In this step, we:\n",
        "1. **Perform a dummy evaluation** to demonstrate how to calculate the **Root Mean Squared Error (RMSE)**.\n",
        "2. Use sample data (`y_true` and `y_pred`) to compute the RMSE.\n",
        "3. Print the RMSE value, which measures the difference between predicted and actual values.\n",
        "\n",
        "**Output**: The RMSE value is **0.387**, indicating a relatively small error in this dummy example."
      ],
      "metadata": {
        "id": "iN1P6j3CVKZP"
      }
    },
    {
      "cell_type": "code",
      "source": [
        "# Dummy evaluation using RMSE (for demonstration only)\n",
        "y_true = [4, 3, 5, 2, 4]\n",
        "y_pred = [3.5, 3, 4.5, 2.5, 4]\n",
        "rmse = np.sqrt(mean_squared_error(y_true, y_pred))\n",
        "print(f\"Dummy RMSE: {rmse:.2f}\")\n"
      ],
      "metadata": {
        "id": "sE-2zrbi-esE"
      },
      "execution_count": null,
      "outputs": []
    },
    {
      "cell_type": "markdown",
      "source": [
        "## Create a User-Friendly Interface\n",
        "\n",
        "In this step, we:\n",
        "1. **Create an input widget** for users to enter a movie name.\n",
        "2. **Create an output widget** to display recommendations.\n",
        "3. **Define a function** to handle user input:\n",
        "   - Clear the previous output.\n",
        "   - Display recommended movies based on genre similarity.\n",
        "   - Display movies by the same director (if available).\n",
        "   - Handle cases where the movie is not found.\n",
        "4. **Attach the function** to the input widget and display both widgets.\n",
        "\n",
        "This makes the recommendation system interactive and easy to use."
      ],
      "metadata": {
        "id": "DTw91yxnVTMe"
      }
    },
    {
      "cell_type": "code",
      "source": [
        "# Function that ties together both recommendation methods for the Gradio interface\n",
        "def movie_recommender_app(movie_title):\n",
        "    # Get content-based recommendations\n",
        "    recommendations, msg1 = get_recommendations(movie_title)\n",
        "    # Get director-based recommendations\n",
        "    director_recommendations, msg2 = recommend_by_director(movie_title)\n",
        "\n",
        "    output_text = \"\"\n",
        "    if msg1:\n",
        "        output_text += msg1 + \"\\n\"\n",
        "    if recommendations:\n",
        "        output_text += \"Top 10 Recommendations:\\n\" + \"\\n\".join(recommendations) + \"\\n\"\n",
        "    else:\n",
        "        output_text += \"No recommendations found.\\n\"\n",
        "\n",
        "    output_text += \"\\n\" + msg2 + \"\\n\"\n",
        "    if director_recommendations:\n",
        "        output_text += \"Movies by the Same Director:\\n\" + \"\\n\".join(director_recommendations)\n",
        "    else:\n",
        "        output_text += \"No director-based recommendations found.\"\n",
        "\n",
        "    return output_text\n",
        "\n",
        "# Create a Gradio interface\n",
        "iface = gr.Interface(\n",
        "    fn=movie_recommender_app,\n",
        "    inputs=gr.Textbox(placeholder=\"Enter a movie name\", label=\"Movie Title\"),\n",
        "    outputs=gr.Textbox(label=\"Recommendations\"),\n",
        "    title=\"Movie Recommendation System 🎬\",\n",
        "    description=\"Enter a movie title to get recommendations based on content similarity and director information.\"\n",
        ")\n",
        "\n",
        "# Launch the Gradio app with a shareable public link\n",
        "iface.launch(share=True)\n"
      ],
      "metadata": {
        "id": "MOTYa38R-kl5"
      },
      "execution_count": null,
      "outputs": []
    },
    {
      "cell_type": "code",
      "source": [
        "# Search for \"The Avengers\" in the dataset\n",
        "avengers_movies = movies[movies['title'].str.contains('Avengers', case=False)]\n",
        "print(avengers_movies)"
      ],
      "metadata": {
        "id": "bcO1AhntK2Cc"
      },
      "execution_count": null,
      "outputs": []
    }
  ]
}